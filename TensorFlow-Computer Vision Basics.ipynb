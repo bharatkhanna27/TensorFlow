{
 "cells": [
  {
   "cell_type": "code",
   "execution_count": 33,
   "metadata": {},
   "outputs": [
    {
     "name": "stdout",
     "output_type": "stream",
     "text": [
      "Requirement already satisfied: tensorflow in c:\\users\\ebahahk\\appdata\\local\\continuum\\anaconda3\\lib\\site-packages (2.0.0a0)\n",
      "Requirement already satisfied: keras-applications>=1.0.6 in c:\\users\\ebahahk\\appdata\\local\\continuum\\anaconda3\\lib\\site-packages (from tensorflow) (1.0.8)\n",
      "Requirement already satisfied: numpy<2.0,>=1.14.5 in c:\\users\\ebahahk\\appdata\\local\\continuum\\anaconda3\\lib\\site-packages (from tensorflow) (1.16.5)\n",
      "Requirement already satisfied: wheel>=0.26 in c:\\users\\ebahahk\\appdata\\local\\continuum\\anaconda3\\lib\\site-packages (from tensorflow) (0.33.6)\n",
      "Requirement already satisfied: astor>=0.6.0 in c:\\users\\ebahahk\\appdata\\local\\continuum\\anaconda3\\lib\\site-packages (from tensorflow) (0.8.1)\n",
      "Requirement already satisfied: tf-estimator-nightly<1.14.0.dev2019030116,>=1.14.0.dev2019030115 in c:\\users\\ebahahk\\appdata\\local\\continuum\\anaconda3\\lib\\site-packages (from tensorflow) (1.14.0.dev2019030115)\n",
      "Requirement already satisfied: protobuf>=3.6.1 in c:\\users\\ebahahk\\appdata\\local\\continuum\\anaconda3\\lib\\site-packages (from tensorflow) (3.14.0)\n",
      "Requirement already satisfied: google-pasta>=0.1.2 in c:\\users\\ebahahk\\appdata\\local\\continuum\\anaconda3\\lib\\site-packages (from tensorflow) (0.2.0)\n",
      "Requirement already satisfied: gast>=0.2.0 in c:\\users\\ebahahk\\appdata\\local\\continuum\\anaconda3\\lib\\site-packages (from tensorflow) (0.4.0)\n",
      "Requirement already satisfied: absl-py>=0.7.0 in c:\\users\\ebahahk\\appdata\\local\\continuum\\anaconda3\\lib\\site-packages (from tensorflow) (0.11.0)\n",
      "Requirement already satisfied: keras-preprocessing>=1.0.5 in c:\\users\\ebahahk\\appdata\\local\\continuum\\anaconda3\\lib\\site-packages (from tensorflow) (1.1.2)\n",
      "Requirement already satisfied: tb-nightly<1.14.0a20190302,>=1.14.0a20190301 in c:\\users\\ebahahk\\appdata\\local\\continuum\\anaconda3\\lib\\site-packages (from tensorflow) (1.14.0a20190301)\n",
      "Requirement already satisfied: six>=1.10.0 in c:\\users\\ebahahk\\appdata\\local\\continuum\\anaconda3\\lib\\site-packages (from tensorflow) (1.12.0)\n",
      "Requirement already satisfied: termcolor>=1.1.0 in c:\\users\\ebahahk\\appdata\\local\\continuum\\anaconda3\\lib\\site-packages (from tensorflow) (1.1.0)\n",
      "Requirement already satisfied: grpcio>=1.8.6 in c:\\users\\ebahahk\\appdata\\local\\continuum\\anaconda3\\lib\\site-packages (from tensorflow) (1.33.2)\n",
      "Requirement already satisfied: h5py in c:\\users\\ebahahk\\appdata\\local\\continuum\\anaconda3\\lib\\site-packages (from keras-applications>=1.0.6->tensorflow) (2.9.0)\n",
      "Requirement already satisfied: markdown>=2.6.8 in c:\\users\\ebahahk\\appdata\\local\\continuum\\anaconda3\\lib\\site-packages (from tb-nightly<1.14.0a20190302,>=1.14.0a20190301->tensorflow) (3.3.3)\n",
      "Requirement already satisfied: werkzeug>=0.11.15 in c:\\users\\ebahahk\\appdata\\local\\continuum\\anaconda3\\lib\\site-packages (from tb-nightly<1.14.0a20190302,>=1.14.0a20190301->tensorflow) (0.16.0)\n",
      "Requirement already satisfied: importlib-metadata; python_version < \"3.8\" in c:\\users\\ebahahk\\appdata\\local\\continuum\\anaconda3\\lib\\site-packages (from markdown>=2.6.8->tb-nightly<1.14.0a20190302,>=1.14.0a20190301->tensorflow) (0.23)\n",
      "Requirement already satisfied: zipp>=0.5 in c:\\users\\ebahahk\\appdata\\local\\continuum\\anaconda3\\lib\\site-packages (from importlib-metadata; python_version < \"3.8\"->markdown>=2.6.8->tb-nightly<1.14.0a20190302,>=1.14.0a20190301->tensorflow) (0.6.0)\n",
      "Requirement already satisfied: more-itertools in c:\\users\\ebahahk\\appdata\\local\\continuum\\anaconda3\\lib\\site-packages (from zipp>=0.5->importlib-metadata; python_version < \"3.8\"->markdown>=2.6.8->tb-nightly<1.14.0a20190302,>=1.14.0a20190301->tensorflow) (7.2.0)\n",
      "Note: you may need to restart the kernel to use updated packages.\n"
     ]
    },
    {
     "name": "stderr",
     "output_type": "stream",
     "text": [
      "WARNING: You are using pip version 20.0.2; however, version 20.2.4 is available.\n",
      "You should consider upgrading via the 'C:\\Users\\EBAHAHK\\AppData\\Local\\Continuum\\anaconda3\\python.exe -m pip install --upgrade pip' command.\n"
     ]
    }
   ],
   "source": [
    "pip install tensorflow"
   ]
  },
  {
   "cell_type": "code",
   "execution_count": 34,
   "metadata": {},
   "outputs": [],
   "source": [
    "import tensorflow as tf\n",
    "import matplotlib.pyplot as plt\n",
    "%matplotlib inline"
   ]
  },
  {
   "cell_type": "code",
   "execution_count": 35,
   "metadata": {},
   "outputs": [
    {
     "data": {
      "text/plain": [
       "'2.0.0-alpha0'"
      ]
     },
     "execution_count": 35,
     "metadata": {},
     "output_type": "execute_result"
    }
   ],
   "source": [
    "tf.__version__"
   ]
  },
  {
   "cell_type": "markdown",
   "metadata": {},
   "source": [
    "# Task: Import the Dataset"
   ]
  },
  {
   "cell_type": "markdown",
   "metadata": {},
   "source": [
    "Loading the fashion mnist dataset from tf.keras.datasets API"
   ]
  },
  {
   "cell_type": "code",
   "execution_count": 36,
   "metadata": {},
   "outputs": [],
   "source": [
    "mnist = tf.keras.datasets.fashion_mnist"
   ]
  },
  {
   "cell_type": "markdown",
   "metadata": {},
   "source": [
    "The Fashion MNIST is a dataset comprised of 60,000 small squared 28x28 pixel grayscale images of items of 10 types of clothing."
   ]
  },
  {
   "cell_type": "code",
   "execution_count": 37,
   "metadata": {},
   "outputs": [],
   "source": [
    "(training_images, training_labels) , (test_images, test_labels)  = mnist.load_data()"
   ]
  },
  {
   "cell_type": "markdown",
   "metadata": {},
   "source": [
    "Let's take an example to print a training image, and a training label"
   ]
  },
  {
   "cell_type": "code",
   "execution_count": 38,
   "metadata": {},
   "outputs": [
    {
     "name": "stdout",
     "output_type": "stream",
     "text": [
      "9\n",
      "[[  0   0   0   0   0   0   0   0   0   0   0   0   0   0   0   0   0   0   0   0   0   0   0   0   0   0   0   0]\n",
      " [  0   0   0   0   0   0   0   0   0   0   0   0   0   0   0   0   0   0   0   0   0   0   0   0   0   0   0   0]\n",
      " [  0   0   0   0   0   0   0   0   0   0   0   0   0   0   0   0   0   0   0   0   0   0   0   0   0   0   0   0]\n",
      " [  0   0   0   0   0   0   0   0   0   0   0   0   1   0   0  13  73   0   0   1   4   0   0   0   0   1   1   0]\n",
      " [  0   0   0   0   0   0   0   0   0   0   0   0   3   0  36 136 127  62  54   0   0   0   1   3   4   0   0   3]\n",
      " [  0   0   0   0   0   0   0   0   0   0   0   0   6   0 102 204 176 134 144 123  23   0   0   0   0  12  10   0]\n",
      " [  0   0   0   0   0   0   0   0   0   0   0   0   0   0 155 236 207 178 107 156 161 109  64  23  77 130  72  15]\n",
      " [  0   0   0   0   0   0   0   0   0   0   0   1   0  69 207 223 218 216 216 163 127 121 122 146 141  88 172  66]\n",
      " [  0   0   0   0   0   0   0   0   0   1   1   1   0 200 232 232 233 229 223 223 215 213 164 127 123 196 229   0]\n",
      " [  0   0   0   0   0   0   0   0   0   0   0   0   0 183 225 216 223 228 235 227 224 222 224 221 223 245 173   0]\n",
      " [  0   0   0   0   0   0   0   0   0   0   0   0   0 193 228 218 213 198 180 212 210 211 213 223 220 243 202   0]\n",
      " [  0   0   0   0   0   0   0   0   0   1   3   0  12 219 220 212 218 192 169 227 208 218 224 212 226 197 209  52]\n",
      " [  0   0   0   0   0   0   0   0   0   0   6   0  99 244 222 220 218 203 198 221 215 213 222 220 245 119 167  56]\n",
      " [  0   0   0   0   0   0   0   0   0   4   0   0  55 236 228 230 228 240 232 213 218 223 234 217 217 209  92   0]\n",
      " [  0   0   1   4   6   7   2   0   0   0   0   0 237 226 217 223 222 219 222 221 216 223 229 215 218 255  77   0]\n",
      " [  0   3   0   0   0   0   0   0   0  62 145 204 228 207 213 221 218 208 211 218 224 223 219 215 224 244 159   0]\n",
      " [  0   0   0   0  18  44  82 107 189 228 220 222 217 226 200 205 211 230 224 234 176 188 250 248 233 238 215   0]\n",
      " [  0  57 187 208 224 221 224 208 204 214 208 209 200 159 245 193 206 223 255 255 221 234 221 211 220 232 246   0]\n",
      " [  3 202 228 224 221 211 211 214 205 205 205 220 240  80 150 255 229 221 188 154 191 210 204 209 222 228 225   0]\n",
      " [ 98 233 198 210 222 229 229 234 249 220 194 215 217 241  65  73 106 117 168 219 221 215 217 223 223 224 229  29]\n",
      " [ 75 204 212 204 193 205 211 225 216 185 197 206 198 213 240 195 227 245 239 223 218 212 209 222 220 221 230  67]\n",
      " [ 48 203 183 194 213 197 185 190 194 192 202 214 219 221 220 236 225 216 199 206 186 181 177 172 181 205 206 115]\n",
      " [  0 122 219 193 179 171 183 196 204 210 213 207 211 210 200 196 194 191 195 191 198 192 176 156 167 177 210  92]\n",
      " [  0   0  74 189 212 191 175 172 175 181 185 188 189 188 193 198 204 209 210 210 211 188 188 194 192 216 170   0]\n",
      " [  2   0   0   0  66 200 222 237 239 242 246 243 244 221 220 193 191 179 182 182 181 176 166 168  99  58   0   0]\n",
      " [  0   0   0   0   0   0   0  40  61  44  72  41  35   0   0   0   0   0   0   0   0   0   0   0   0   0   0   0]\n",
      " [  0   0   0   0   0   0   0   0   0   0   0   0   0   0   0   0   0   0   0   0   0   0   0   0   0   0   0   0]\n",
      " [  0   0   0   0   0   0   0   0   0   0   0   0   0   0   0   0   0   0   0   0   0   0   0   0   0   0   0   0]]\n"
     ]
    },
    {
     "data": {
      "image/png": "[encoded data removed]",
      "text/plain": [
       "<Figure size 432x288 with 1 Axes>"
      ]
     },
     "metadata": {
      "needs_background": "light"
     },
     "output_type": "display_data"
    }
   ],
   "source": [
    "import numpy as np\n",
    "# import matplotlib.pyplot as plt\n",
    "\n",
    "np.set_printoptions(linewidth=200)\n",
    "plt.imshow(training_images[0])\n",
    "print(training_labels[0])\n",
    "print(training_images[0])"
   ]
  },
  {
   "cell_type": "code",
   "execution_count": 39,
   "metadata": {},
   "outputs": [
    {
     "name": "stdout",
     "output_type": "stream",
     "text": [
      "5\n",
      "[[  0   0   0   0   0   0   0   0   0   0   0   0   0   0   0   0   0   0   0   0   0   0   0   0   0   0   0   0]\n",
      " [  0   0   0   0   0   0   0   0   0   0   0   0   0   0   0   0   0   0   0   0   0   0   0   0   0   0   0   0]\n",
      " [  0   0   0   0   0   0   0   0   0   0   0   0   0   0   0   0   0   0   0   0   0   0   0   0   0   0   0   0]\n",
      " [  0   0   0   0   0   0   0   0   0   0   0   0   0   0   0   0   0   0   0   0   0   0   0   0   0   0   0   0]\n",
      " [  0   0   0   0   0   0   0   0   0   0   0   0   0   0   0   0   0   0   0   0   0   0   0   0   0   0   0   0]\n",
      " [  0   0   0   0   0   0   0   0   0   0   0   0   0   0   0   0   0   0   0   0   0   0   0   0   0   0   0   0]\n",
      " [  0   0   0   0   0   0   0   0   0   0   0   0   0   0   0   0   0   0   0   0   0   0   0   0   0   0   0   0]\n",
      " [  0   0   0   0   0   0   0   0   0   0   0   0   0   0   0   0   0   0   0   0   0   0   0   0   0   0   0   0]\n",
      " [  0   0   0   0   0   0   0   0   0   1   0   0   0 110  60  38  94  73  27   0   0   0   0   0   0 121  78   0]\n",
      " [  0   0   0   0   0   0   0   0   0   4   0   0  68  22   1  82 140 131 178 144  92  41   0  32  99 151 129   0]\n",
      " [  0   0   0   0   0   0   0   2   0   0  41 126 153 140 125 120 112 108 117 102 121 144 123 120  34 124 161   0]\n",
      " [  0   0   0   0   1   2   3   0   0  72 184  77  91 129 125 142 141 151 139 119 112 146 112  27  25 152 178  28]\n",
      " [  0   0   0   0   2   0   2  39   0 197  41  52  43   0   0   0   0  16  87 134 168 156  77  48  71 162 172  56]\n",
      " [  0   0   1   0   0  54  71 178 113  18  50 215  45   0   4   0   0   0   0   0  44 150 145 150 176 182 165  56]\n",
      " [  2   1   0   0 105 136  94 115 181  49 110 141   7   0   3   1   0   1   0   0 153 179 182 195 209 193 170  30]\n",
      " [  0   0   0   0  77  56  60  57  71  77  60 137   0   0   0   0   0   0   0  71 254 182 219 200 199 178 167   4]\n",
      " [  0   0   0   0 130 147 147 170 162 131 157 192   0   0   4  29  43  71  82 108  82  52  35  24  19  13  23   0]\n",
      " [ 59 140 117 101 121 140 149 161 173 171 173 163  72  76  72  83  81  77  71  68  66  81  94  99 104  99 121  22]\n",
      " [ 16  87 114 120  98  96 104 118 137 144 155 157 195 163 173 177 177 178 179 224 209 194 193 198 198 155 183  27]\n",
      " [  0   0   0   0   3  11  22  34  36  50  43  49  48  64  66  40  32  36  46  62  66  61  73  70  56  46  18   0]\n",
      " [  0   0   0   0   0   0   0   0   0   0   0   0   0   0   0   0   0   0   0   0   0   0   0   0   0   0   0   0]\n",
      " [  0   0   0   0   0   0   0   0   0   0   0   0   0   0   0   0   0   0   0   0   0   0   0   0   0   0   0   0]\n",
      " [  0   0   0   0   0   0   0   0   0   0   0   0   0   0   0   0   0   0   0   0   0   0   0   0   0   0   0   0]\n",
      " [  0   0   0   0   0   0   0   0   0   0   0   0   0   0   0   0   0   0   0   0   0   0   0   0   0   0   0   0]\n",
      " [  0   0   0   0   0   0   0   0   0   0   0   0   0   0   0   0   0   0   0   0   0   0   0   0   0   0   0   0]\n",
      " [  0   0   0   0   0   0   0   0   0   0   0   0   0   0   0   0   0   0   0   0   0   0   0   0   0   0   0   0]\n",
      " [  0   0   0   0   0   0   0   0   0   0   0   0   0   0   0   0   0   0   0   0   0   0   0   0   0   0   0   0]\n",
      " [  0   0   0   0   0   0   0   0   0   0   0   0   0   0   0   0   0   0   0   0   0   0   0   0   0   0   0   0]]\n"
     ]
    },
    {
     "data": {
      "image/png": "[encoded data removed]",
      "text/plain": [
       "<Figure size 432x288 with 1 Axes>"
      ]
     },
     "metadata": {
      "needs_background": "light"
     },
     "output_type": "display_data"
    }
   ],
   "source": [
    "plt.imshow(training_images[13])\n",
    "print(training_labels[13])\n",
    "print(training_images[13])"
   ]
  },
  {
   "cell_type": "code",
   "execution_count": 40,
   "metadata": {},
   "outputs": [
    {
     "name": "stdout",
     "output_type": "stream",
     "text": [
      "0\n",
      "[[  0   0   0   0   0   0   0   0  58 121 218 110  58  42  54  85 176 228 121  33   0   0   0   0   0   0   0   0]\n",
      " [  0   0   0   0   0  18  66 129 148 121 149 254 255 255 255 255 187  87 126 142 113  46   0   0   0   0   0   0]\n",
      " [  0   0   4   0  82 239 207 180 162 159 143 154 180 176 176 145 127 155 154 165 191 219 183  41   0   0   0   0]\n",
      " [  0   0   0   0 119 138  63  69  75  76  75  65  63  63  62  66  77  77  78  71  49  88 167  94   0   0   0   0]\n",
      " [  0   0   0  62 240 145 172 178 186 186 184 185 183 183 184 186 186 182 193 193 197 145 121 174   0   0   0   0]\n",
      " [  0   0   0  30 143 147 185 142 112 104 104 101  99  98  96  94  98  98  95 112 143 196 206 173   0   0   0   0]\n",
      " [  0   0   0 101 180  99 104 121 153 148 146 147 147 145 147 145 136 139 153 153 118  87  58 148  38   0   0   0]\n",
      " [  0   0   0 133 198 206 201 149  95  93  92  91  88  88  88  92  99 100  90 102 186 217 183 250  66   0   0   0]\n",
      " [  0   0   0 114 142 152 144 117 167 177 177 178 181 181 185 187 179 183 187 152  96 184 159 160  73   0   0   0]\n",
      " [  0   0   0 190 167 179 181 227 162 140 132 126 119 117 114 113 113 122 133 194 191 199 135 142 122   0   0   0]\n",
      " [  0   0   0 150 155 255  90  77 148 128 142 145 148 156 163 170 173 168 143 180   0 212 213 188 174   0   0   0]\n",
      " [  0   0   9 163 140 252  13  57 253 213 206 182 169 156 150 153 160 179 157 208   0 105 169 100 111   0   0   0]\n",
      " [  0   0  54 246 196 255   0   5 127  78  90  88  91 105 117 122 124 119 123 159   0  65 236 187 245  19   0   0]\n",
      " [  0   0  45 151 157 237   0   9 253 214 214 211 211 210 206 205 213 212 223 223   0  17 216 165 179  41   0   0]\n",
      " [  0   0 106 157 177 230   0  25 209 159 162 151 144 138 137 141 146 144 158 125   0   0 187 155 132  64   0   0]\n",
      " [  0   0 162 184 229 253   0  39 146 106 113 111 117 127 127 128 133 129 137 152   0   0 245 224 195 168   0   0]\n",
      " [  0   0   0  36  81  34   0  85 252 212 226 222 210 200 202 203 204 201 205 192   0   0 133 140  90  40   0   0]\n",
      " [  0   0   0   0   0   0   0  41 101  72  78  79  71  72  75  76  80  78  73 121   0   0   0   0   0   0   0   0]\n",
      " [  0   0   1   1   3   4   0 106 239 194 204 207 206 213 216 214 214 215 210 242  59   0   0   0   0   0   0   0]\n",
      " [  0   0   0   0   0   0   0 132 175 161 169 165 156 152 153 153 153 151 141 160  88   0   0   1   0   0   0   0]\n",
      " [  0   0   0   0   1   0   0 154 124 114 112 110 110 112 112 112 112 116 120 139 171   0   0   2   0   0   0   0]\n",
      " [  0   0   0   0   1   0  44 228 192 202 205 209 212 213 212 209 207 206 193 184 178   0   0   2   0   0   0   0]\n",
      " [  0   0   0   0   0   0  58 117  84  88  85  86  85  87  86  82  81  79  82  89 141  37   0   2   0   0   0   0]\n",
      " [  0   0   0   0   0   0 170 204 212 211 212 213 214 211 213 216 216 216 215 211 200  98   0   2   0   0   0   0]\n",
      " [  0   0   0   0   0   0 135 154 147 157 158 158 161 160 161 161 160 154 149 137 153  91   0   1   0   0   0   0]\n",
      " [  0   0   0   1   0   0 152 150 142 124 123 123 120 121 122 121 118 120 126 142 149 126   0   0   3   0   0   0]\n",
      " [  0   0   0   3   0   4 236 185 226 233 234 233 236 237 238 238 235 233 233 228 190 202   0   0   3   0   0   0]\n",
      " [  0   0   0   1   0   0  44  19  29  27  26  29  29  28  27  27  27  25  21  23  30  37   0   0   1   0   0   0]]\n"
     ]
    },
    {
     "data": {
      "image/png": "[encoded data removed]",
      "text/plain": [
       "<Figure size 432x288 with 1 Axes>"
      ]
     },
     "metadata": {
      "needs_background": "light"
     },
     "output_type": "display_data"
    }
   ],
   "source": [
    "plt.imshow(training_images[26])\n",
    "print(training_labels[26])\n",
    "print(training_images[26])"
   ]
  },
  {
   "cell_type": "markdown",
   "metadata": {},
   "source": [
    "# All the values are in between 0 and 255 so to normalize it we do it by:"
   ]
  },
  {
   "cell_type": "code",
   "execution_count": 41,
   "metadata": {},
   "outputs": [],
   "source": [
    "training_images = training_images/255.0\n",
    "test_images = test_images/255.0"
   ]
  },
  {
   "cell_type": "markdown",
   "metadata": {},
   "source": [
    "# Task: Define and compile the neural network"
   ]
  },
  {
   "cell_type": "code",
   "execution_count": 42,
   "metadata": {},
   "outputs": [],
   "source": [
    "model = tf.keras.models.Sequential([tf.keras.layers.Flatten(),\n",
    "                                   tf.keras.layers.Dense(128,activation=tf.nn.relu ),\n",
    "                                   tf.keras.layers.Dense(10, activation=tf.nn.softmax)])"
   ]
  },
  {
   "cell_type": "markdown",
   "metadata": {},
   "source": [
    "# Sequential:- SEQUENCE of layers in the neural network \n",
    "# Flatten:- Takes the square and turns it into a 1 dimensional set\n",
    "# Dense:- Adds a layer of neurons\n",
    "# ACtivation function:- Each layer of neurons need an activation function to tell them what to do\n",
    "# Relu:- It only passes values 0 or greater to the next layer in the network\n",
    "# Softmax:- Takes a set of values, and effectively picks the biggest one"
   ]
  },
  {
   "cell_type": "markdown",
   "metadata": {},
   "source": [
    "# Now the model is defined!!"
   ]
  },
  {
   "cell_type": "markdown",
   "metadata": {},
   "source": [
    "Now we will compile this my optimizer and loss function and then train it with @model.fit"
   ]
  },
  {
   "cell_type": "code",
   "execution_count": 44,
   "metadata": {},
   "outputs": [
    {
     "data": {
      "text/plain": [
       "<tensorflow.python.keras.optimizer_v2.adam.Adam at 0x1d4e024eec8>"
      ]
     },
     "execution_count": 44,
     "metadata": {},
     "output_type": "execute_result"
    }
   ],
   "source": [
    "from tensorflow.keras import optimizers\n",
    "optimizers.Adam()"
   ]
  },
  {
   "cell_type": "code",
   "execution_count": 45,
   "metadata": {},
   "outputs": [],
   "source": [
    "model.compile(optimizer=optimizers.Adam(),\n",
    "             loss='sparse_categorical_crossentropy',\n",
    "             metrics=['accuracy'])"
   ]
  },
  {
   "cell_type": "markdown",
   "metadata": {},
   "source": [
    "# Task: Train the neural network"
   ]
  },
  {
   "cell_type": "code",
   "execution_count": 46,
   "metadata": {},
   "outputs": [
    {
     "name": "stdout",
     "output_type": "stream",
     "text": [
      "Epoch 1/5\n",
      "60000/60000 [==============================] - 8s 125us/sample - loss: 0.5006 - accuracy: 0.8230\n",
      "Epoch 2/5\n",
      "60000/60000 [==============================] - 7s 114us/sample - loss: 0.3732 - accuracy: 0.8635\n",
      "Epoch 3/5\n",
      "60000/60000 [==============================] - 7s 119us/sample - loss: 0.3369 - accuracy: 0.8766\n",
      "Epoch 4/5\n",
      "60000/60000 [==============================] - 7s 120us/sample - loss: 0.3113 - accuracy: 0.8858\n",
      "Epoch 5/5\n",
      "60000/60000 [==============================] - 6s 102us/sample - loss: 0.2954 - accuracy: 0.8918\n"
     ]
    },
    {
     "data": {
      "text/plain": [
       "<tensorflow.python.keras.callbacks.History at 0x1d4e0249ac8>"
      ]
     },
     "execution_count": 46,
     "metadata": {},
     "output_type": "execute_result"
    }
   ],
   "source": [
    "model.fit(training_images, training_labels, epochs=5)"
   ]
  },
  {
   "cell_type": "code",
   "execution_count": 47,
   "metadata": {},
   "outputs": [
    {
     "name": "stdout",
     "output_type": "stream",
     "text": [
      "10000/10000 [==============================] - 1s 63us/sample - loss: 0.3745 - accuracy: 0.8661\n"
     ]
    },
    {
     "data": {
      "text/plain": [
       "[0.37451336019039155, 0.8661]"
      ]
     },
     "execution_count": 47,
     "metadata": {},
     "output_type": "execute_result"
    }
   ],
   "source": [
    "model.evaluate(test_images, test_labels)"
   ]
  },
  {
   "cell_type": "markdown",
   "metadata": {},
   "source": [
    "Let's repeat it with increasing the number of epochs"
   ]
  },
  {
   "cell_type": "code",
   "execution_count": 48,
   "metadata": {},
   "outputs": [
    {
     "name": "stdout",
     "output_type": "stream",
     "text": [
      "Epoch 1/10\n",
      "60000/60000 [==============================] - 7s 114us/sample - loss: 0.2811 - accuracy: 0.8960\n",
      "Epoch 2/10\n",
      "60000/60000 [==============================] - 7s 116us/sample - loss: 0.2668 - accuracy: 0.9000\n",
      "Epoch 3/10\n",
      "60000/60000 [==============================] - 7s 118us/sample - loss: 0.2564 - accuracy: 0.9051\n",
      "Epoch 4/10\n",
      "60000/60000 [==============================] - 7s 111us/sample - loss: 0.2472 - accuracy: 0.9060\n",
      "Epoch 5/10\n",
      "60000/60000 [==============================] - 7s 122us/sample - loss: 0.2397 - accuracy: 0.9107\n",
      "Epoch 6/10\n",
      "60000/60000 [==============================] - 7s 111us/sample - loss: 0.2297 - accuracy: 0.9134\n",
      "Epoch 7/10\n",
      "60000/60000 [==============================] - 7s 114us/sample - loss: 0.2225 - accuracy: 0.9157\n",
      "Epoch 8/10\n",
      "60000/60000 [==============================] - 6s 107us/sample - loss: 0.2154 - accuracy: 0.9194\n",
      "Epoch 9/10\n",
      "60000/60000 [==============================] - 7s 116us/sample - loss: 0.2092 - accuracy: 0.9206\n",
      "Epoch 10/10\n",
      "60000/60000 [==============================] - 6s 108us/sample - loss: 0.2018 - accuracy: 0.9234\n"
     ]
    },
    {
     "data": {
      "text/plain": [
       "<tensorflow.python.keras.callbacks.History at 0x1d4e022ffc8>"
      ]
     },
     "execution_count": 48,
     "metadata": {},
     "output_type": "execute_result"
    }
   ],
   "source": [
    "model.fit(training_images, training_labels, epochs=10)"
   ]
  },
  {
   "cell_type": "code",
   "execution_count": 49,
   "metadata": {},
   "outputs": [
    {
     "name": "stdout",
     "output_type": "stream",
     "text": [
      "10000/10000 [==============================] - 1s 63us/sample - loss: 0.3500 - accuracy: 0.8831\n"
     ]
    },
    {
     "data": {
      "text/plain": [
       "[0.35001566249728205, 0.8831]"
      ]
     },
     "execution_count": 49,
     "metadata": {},
     "output_type": "execute_result"
    }
   ],
   "source": [
    "model.evaluate(test_images, test_labels)"
   ]
  },
  {
   "cell_type": "markdown",
   "metadata": {},
   "source": [
    "# Exercise 1"
   ]
  },
  {
   "cell_type": "markdown",
   "metadata": {},
   "source": [
    "\n",
    "The output, after you run the code below is a list of numbers. Why do you think this is, and what do those numbers represent???\n",
    "\n",
    "It's 10 random meaningless values\n",
    "It's the first 10 classifications that the computer made\n",
    "It's the probability that this item is each of the 10 classes"
   ]
  },
  {
   "cell_type": "code",
   "execution_count": 50,
   "metadata": {},
   "outputs": [
    {
     "name": "stdout",
     "output_type": "stream",
     "text": [
      "[2.9905900e-12 4.1512212e-13 1.6436571e-12 5.1322717e-15 1.8786510e-13 2.8000262e-05 3.1796893e-10 7.2642503e-04 7.9126305e-13 9.9924564e-01]\n"
     ]
    }
   ],
   "source": [
    "classifications = model.predict(test_images)\n",
    "\n",
    "print(classifications[0])"
   ]
  },
  {
   "cell_type": "markdown",
   "metadata": {},
   "source": [
    "# Implement Linear Regression with Tensorflow"
   ]
  },
  {
   "cell_type": "code",
   "execution_count": 52,
   "metadata": {},
   "outputs": [
    {
     "name": "stdout",
     "output_type": "stream",
     "text": [
      "WARNING:tensorflow:From C:\\Users\\EBAHAHK\\AppData\\Local\\Continuum\\anaconda3\\lib\\site-packages\\tensorflow\\python\\compat\\v2_compat.py:63: disable_resource_variables (from tensorflow.python.ops.variable_scope) is deprecated and will be removed in a future version.\n",
      "Instructions for updating:\n",
      "non-resource variables are not supported in the long term\n",
      "WARNING:tensorflow:From C:\\Users\\EBAHAHK\\AppData\\Local\\Continuum\\anaconda3\\lib\\site-packages\\tensorflow\\python\\util\\tf_should_use.py:193: initialize_all_variables (from tensorflow.python.ops.variables) is deprecated and will be removed after 2017-03-02.\n",
      "Instructions for updating:\n",
      "Use `tf.global_variables_initializer` instead.\n",
      "Epoch: 0050 cost= 0.083978899 W= 0.28846523 b= 0.6016115\n",
      "Epoch: 0100 cost= 0.083952956 W= 0.28793442 b= 0.60523427\n",
      "Epoch: 0150 cost= 0.083929598 W= 0.28743008 b= 0.60867596\n",
      "Epoch: 0200 cost= 0.083908550 W= 0.2869508 b= 0.61194587\n",
      "Epoch: 0250 cost= 0.083889581 W= 0.2864957 b= 0.61505204\n",
      "Epoch: 0300 cost= 0.083872490 W= 0.28606325 b= 0.6180031\n",
      "Epoch: 0350 cost= 0.083857097 W= 0.28565243 b= 0.6208059\n",
      "Epoch: 0400 cost= 0.083843239 W= 0.28526223 b= 0.6234693\n",
      "Epoch: 0450 cost= 0.083830729 W= 0.2848915 b= 0.6259991\n",
      "Epoch: 0500 cost= 0.083819471 W= 0.28453934 b= 0.62840235\n",
      "Epoch: 0550 cost= 0.083809339 W= 0.28420466 b= 0.6306856\n",
      "Epoch: 0600 cost= 0.083800226 W= 0.28388688 b= 0.6328544\n",
      "Epoch: 0650 cost= 0.083792031 W= 0.28358495 b= 0.63491446\n",
      "Epoch: 0700 cost= 0.083784647 W= 0.28329808 b= 0.63687223\n",
      "Epoch: 0750 cost= 0.083777979 W= 0.28302568 b= 0.6387316\n",
      "Epoch: 0800 cost= 0.083772004 W= 0.28276673 b= 0.6404983\n",
      "Epoch: 0850 cost= 0.083766617 W= 0.2825209 b= 0.6421762\n",
      "Epoch: 0900 cost= 0.083761767 W= 0.2822873 b= 0.6437701\n",
      "Epoch: 0950 cost= 0.083757423 W= 0.28206527 b= 0.6452846\n",
      "Epoch: 1000 cost= 0.083753489 W= 0.28185448 b= 0.6467239\n",
      "\n",
      " Our Model is Ready! \n",
      "\n",
      "Training cost = 0.08375349 \n",
      " W= 0.28185448 \n",
      " b= 0.6467239 \n",
      "\n"
     ]
    },
    {
     "data": {
      "image/png": "[encoded data removed]",
      "text/plain": [
       "<Figure size 432x288 with 1 Axes>"
      ]
     },
     "metadata": {
      "needs_background": "light"
     },
     "output_type": "display_data"
    }
   ],
   "source": [
    "import tensorflow.compat.v1 as tf\n",
    "tf.disable_v2_behavior()\n",
    "\n",
    "# Creating our Training Data\n",
    "train_X = np.asarray([3.3,4.4,5.5,6.71,6.93,4.168,8.779,6.182,7.59,2.167,\n",
    "                         7.042,8.791,5.313,7.997,5.654,9.27,3.1])\n",
    "train_Y = np.asarray([1.7,2.76,2.09,3.19,1.694,1.573,3.366,2.596,2.53,1.221,\n",
    "                         2.827,3.465,1.65,2.904,2.42,2.94,1.3])\n",
    "n_samples = train_X.shape[0]\n",
    "\n",
    "\n",
    "# Setting up the model by specifying inputs as placeholder objects and model weights as Variables.\n",
    "random = np.random\n",
    "\n",
    "# Tensorflow Graph Input\n",
    "X = tf.placeholder(\"float\")\n",
    "Y = tf.placeholder(\"float\")\n",
    "\n",
    "# Setting up the model weights\n",
    "W = tf.Variable(random.randn(), name=\"weight\")\n",
    "b = tf.Variable(random.randn(), name=\"bias\")\n",
    "\n",
    "\n",
    "# let's now construct the linear model:\n",
    "predict = tf.add(tf.multiply(X, W), b)\n",
    "\n",
    "\n",
    "# Parameters\n",
    "learning_rate = 0.01\n",
    "num_epochs = 1000\n",
    "display_step = 50\n",
    "\n",
    "\n",
    "# We then calculate the cost (loss function), and provide a way for the model to learn the correct paramter values.\n",
    "\n",
    "\n",
    "# Use Mean squared error Loss Function for Linear Regression\n",
    "cost = tf.reduce_sum(tf.pow(predict-Y, 2))/(2*n_samples)\n",
    "\n",
    "# Apply Gradient descent Optimizer\n",
    "optimizer = tf.train.GradientDescentOptimizer(learning_rate).minimize(cost)\n",
    "\n",
    "# Initializing the variables\n",
    "init = tf.initialize_all_variables()\n",
    "\n",
    "\n",
    "# Launching the graph\n",
    "with tf.Session() as sess:\n",
    "    sess.run(init)\n",
    "\n",
    "# Fitting our training data\n",
    "    for epoch in range(num_epochs):\n",
    "        for (x, y) in zip(train_X, train_Y):\n",
    "            sess.run(optimizer, feed_dict={X: x, Y: y})\n",
    "\n",
    "        #Display logs per epoch step\n",
    "        if (epoch+1) % display_step == 0:\n",
    "            c = sess.run(cost, feed_dict={X: train_X, Y:train_Y})\n",
    "            print(\"Epoch:\", '%04d' % (epoch+1), \"cost=\", \"{:.9f}\".format(c), \n",
    "                \"W=\", sess.run(W), \"b=\", sess.run(b))\n",
    "\n",
    "    print('\\n', \"Our Model is Ready!\", '\\n')\n",
    "    training_cost = sess.run(cost, feed_dict={X: train_X, Y: train_Y})\n",
    "    print(\"Training cost =\", training_cost, '\\n', \"W=\", sess.run(W), '\\n', \"b=\", sess.run(b), '\\n')\n",
    "    \n",
    "    plt.plot(train_X, train_Y, 'ro', label='Original data')\n",
    "    plt.plot(train_X, sess.run(W) * train_X + sess.run(b), label='Fitted line')\n",
    "    plt.legend(loc='lower right')\n",
    "    plt.show()"
   ]
  },
  {
   "cell_type": "code",
   "execution_count": null,
   "metadata": {},
   "outputs": [],
   "source": []
  }
 ],
 "metadata": {
  "kernelspec": {
   "display_name": "Python 3",
   "language": "python",
   "name": "python3"
  },
  "language_info": {
   "codemirror_mode": {
    "name": "ipython",
    "version": 3
   },
   "file_extension": ".py",
   "mimetype": "text/x-python",
   "name": "python",
   "nbconvert_exporter": "python",
   "pygments_lexer": "ipython3",
   "version": "3.7.4"
  }
 },
 "nbformat": 4,
 "nbformat_minor": 2
}
